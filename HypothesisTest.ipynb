{
  "nbformat": 4,
  "nbformat_minor": 0,
  "metadata": {
    "colab": {
      "provenance": [],
      "authorship_tag": "ABX9TyPEVj29YDXFmxr6OLPj9jST"
    },
    "kernelspec": {
      "name": "python3",
      "display_name": "Python 3"
    },
    "language_info": {
      "name": "python"
    }
  },
  "cells": [
    {
      "cell_type": "code",
      "execution_count": null,
      "metadata": {
        "id": "iVNBXcKZ-7id"
      },
      "outputs": [],
      "source": [
        "import pandas as pd\n",
        "import statistics\n",
        "import math\n",
        "import numpy as np"
      ]
    },
    {
      "cell_type": "code",
      "source": [
        "from scipy import stats"
      ],
      "metadata": {
        "id": "ofrrrlMydf9M"
      },
      "execution_count": null,
      "outputs": []
    },
    {
      "cell_type": "code",
      "source": [
        "a=[80,74,73,72,78,75,70,74,69]\n",
        "sm= statistics.mean(a)\n",
        "sm\n"
      ],
      "metadata": {
        "id": "IQAlBhl5A0d6",
        "colab": {
          "base_uri": "https://localhost:8080/"
        },
        "outputId": "3e347da6-74db-4041-f51b-3a2763ef0ca7"
      },
      "execution_count": null,
      "outputs": [
        {
          "output_type": "execute_result",
          "data": {
            "text/plain": [
              "73.88888888888889"
            ]
          },
          "metadata": {},
          "execution_count": 13
        }
      ]
    },
    {
      "cell_type": "code",
      "source": [
        "z=((73.8-71)/(4/math.sqrt(9)))\n",
        "z"
      ],
      "metadata": {
        "colab": {
          "base_uri": "https://localhost:8080/"
        },
        "id": "JlSFaKCDioo2",
        "outputId": "631c33db-4d57-40cd-93b5-c315a60269d6"
      },
      "execution_count": null,
      "outputs": [
        {
          "output_type": "execute_result",
          "data": {
            "text/plain": [
              "2.099999999999998"
            ]
          },
          "metadata": {},
          "execution_count": 28
        }
      ]
    },
    {
      "cell_type": "code",
      "source": [
        "p= (1-(stats.norm.cdf(2.09)))\n",
        "p"
      ],
      "metadata": {
        "colab": {
          "base_uri": "https://localhost:8080/"
        },
        "id": "hPLadYm0lZme",
        "outputId": "bd4eb4a9-233f-42e8-bde1-5701c5878e0f"
      },
      "execution_count": null,
      "outputs": [
        {
          "output_type": "execute_result",
          "data": {
            "text/plain": [
              "0.018308899851658955"
            ]
          },
          "metadata": {},
          "execution_count": 29
        }
      ]
    },
    {
      "cell_type": "code",
      "source": [
        "#p<alpha (0.0183<0.05), that is reject H0. Thus heart rate would increase#\n"
      ],
      "metadata": {
        "id": "tAfuuHlHSHB7"
      },
      "execution_count": 5,
      "outputs": []
    }
  ]
}